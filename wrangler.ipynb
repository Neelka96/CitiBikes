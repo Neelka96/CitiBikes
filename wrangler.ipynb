{
 "cells": [
  {
   "cell_type": "markdown",
   "id": "6acbf744",
   "metadata": {},
   "source": [
    "## Dependencies"
   ]
  },
  {
   "cell_type": "code",
   "execution_count": 1,
   "id": "b8c046ef",
   "metadata": {},
   "outputs": [],
   "source": [
    "from lib import concurrent_agg\n",
    "from lib.func import df_size, iter_subfiles\n",
    "from lib import Fixer\n",
    "\n",
    "import pandas as pd\n",
    "from pathlib import Path"
   ]
  },
  {
   "cell_type": "code",
   "execution_count": 14,
   "id": "4da7f7f1",
   "metadata": {},
   "outputs": [],
   "source": [
    "all_tables: dict[str, pd.DataFrame] = dict()\n",
    "temp_summ_dir = Path('Summaries/temporal_summary')\n",
    "station_view_dir = Path('Summaries/view_per_station')"
   ]
  },
  {
   "cell_type": "code",
   "execution_count": 3,
   "id": "6b0f4dc3",
   "metadata": {},
   "outputs": [
    {
     "data": {
      "text/html": [
       "<div>\n",
       "<style scoped>\n",
       "    .dataframe tbody tr th:only-of-type {\n",
       "        vertical-align: middle;\n",
       "    }\n",
       "\n",
       "    .dataframe tbody tr th {\n",
       "        vertical-align: top;\n",
       "    }\n",
       "\n",
       "    .dataframe thead th {\n",
       "        text-align: right;\n",
       "    }\n",
       "</style>\n",
       "<table border=\"1\" class=\"dataframe\">\n",
       "  <thead>\n",
       "    <tr style=\"text-align: right;\">\n",
       "      <th></th>\n",
       "      <th>station</th>\n",
       "      <th>dist_mi</th>\n",
       "    </tr>\n",
       "  </thead>\n",
       "  <tbody>\n",
       "    <tr>\n",
       "      <th>0</th>\n",
       "      <td>1 Ave &amp; E 16 St</td>\n",
       "      <td>5363.4805</td>\n",
       "    </tr>\n",
       "    <tr>\n",
       "      <th>1</th>\n",
       "      <td>1 Ave &amp; E 18 St</td>\n",
       "      <td>3933.6592</td>\n",
       "    </tr>\n",
       "    <tr>\n",
       "      <th>2</th>\n",
       "      <td>1 Ave &amp; E 30 St</td>\n",
       "      <td>3842.6748</td>\n",
       "    </tr>\n",
       "    <tr>\n",
       "      <th>3</th>\n",
       "      <td>1 Ave &amp; E 44 St</td>\n",
       "      <td>4884.0782</td>\n",
       "    </tr>\n",
       "    <tr>\n",
       "      <th>4</th>\n",
       "      <td>10 Ave &amp; W 28 St</td>\n",
       "      <td>5043.1444</td>\n",
       "    </tr>\n",
       "    <tr>\n",
       "      <th>...</th>\n",
       "      <td>...</td>\n",
       "      <td>...</td>\n",
       "    </tr>\n",
       "    <tr>\n",
       "      <th>332</th>\n",
       "      <td>Willoughby Ave &amp; Hall St</td>\n",
       "      <td>1393.5684</td>\n",
       "    </tr>\n",
       "    <tr>\n",
       "      <th>333</th>\n",
       "      <td>Willoughby Ave &amp; Walworth St</td>\n",
       "      <td>1576.6894</td>\n",
       "    </tr>\n",
       "    <tr>\n",
       "      <th>334</th>\n",
       "      <td>Willoughby St &amp; Fleet St</td>\n",
       "      <td>798.3459</td>\n",
       "    </tr>\n",
       "    <tr>\n",
       "      <th>335</th>\n",
       "      <td>Wythe Ave &amp; Metropolitan Ave</td>\n",
       "      <td>4016.8525</td>\n",
       "    </tr>\n",
       "    <tr>\n",
       "      <th>336</th>\n",
       "      <td>York St &amp; Jay St</td>\n",
       "      <td>4886.8491</td>\n",
       "    </tr>\n",
       "  </tbody>\n",
       "</table>\n",
       "<p>337 rows × 2 columns</p>\n",
       "</div>"
      ],
      "text/plain": [
       "                          station    dist_mi\n",
       "0                 1 Ave & E 16 St  5363.4805\n",
       "1                 1 Ave & E 18 St  3933.6592\n",
       "2                 1 Ave & E 30 St  3842.6748\n",
       "3                 1 Ave & E 44 St  4884.0782\n",
       "4                10 Ave & W 28 St  5043.1444\n",
       "..                            ...        ...\n",
       "332      Willoughby Ave & Hall St  1393.5684\n",
       "333  Willoughby Ave & Walworth St  1576.6894\n",
       "334      Willoughby St & Fleet St   798.3459\n",
       "335  Wythe Ave & Metropolitan Ave  4016.8525\n",
       "336              York St & Jay St  4886.8491\n",
       "\n",
       "[337 rows x 2 columns]"
      ]
     },
     "execution_count": 3,
     "metadata": {},
     "output_type": "execute_result"
    }
   ],
   "source": [
    "files = [f for year in range(2013, 2026) for f in iter_subfiles(year)]\n",
    "fix_test = Fixer(files[0])\n",
    "fix_test.view_per_station()"
   ]
  },
  {
   "cell_type": "code",
   "execution_count": 4,
   "id": "b9fbeac5",
   "metadata": {},
   "outputs": [],
   "source": [
    "def fetch_temporal_summaries(\n",
    "        all_tables: dict[str, pd.DataFrame]\n",
    "        ,params: str\n",
    "        ,dt_field: str\n",
    "        ,freq: str\n",
    "    ) -> None:\n",
    "    path = Path(f'{temp_summ_dir}/{params}.csv')\n",
    "\n",
    "    if not path.exists():\n",
    "        summary = concurrent_agg(\n",
    "            table_name = 'temporal_summary'\n",
    "            ,save_file = path\n",
    "            ,dt_field = dt_field\n",
    "            ,freq = freq\n",
    "        )\n",
    "    else:\n",
    "        summary = pd.read_csv(path)\n",
    "        df_size(summary)\n",
    "        \n",
    "    all_tables[params] = summary\n",
    "    return None"
   ]
  },
  {
   "cell_type": "code",
   "execution_count": 15,
   "id": "33c065f0",
   "metadata": {},
   "outputs": [],
   "source": [
    "def fetch_station_view(\n",
    "        all_tables: dict[str, pd.DataFrame]\n",
    "        ,params: str\n",
    "        ,view: str = None\n",
    "    ) -> None:\n",
    "    path = Path(f'{station_view_dir}/{params}.csv')\n",
    "\n",
    "    if not path.exists():\n",
    "        summary = concurrent_agg(\n",
    "            table_name = 'view_per_station'\n",
    "            ,save_file = path\n",
    "            ,view = view\n",
    "        )\n",
    "    else:\n",
    "        summary = pd.read_csv(path)\n",
    "        df_size(summary)\n",
    "        \n",
    "    all_tables[params] = summary\n",
    "    return None"
   ]
  },
  {
   "cell_type": "code",
   "execution_count": 16,
   "id": "ec55c469",
   "metadata": {},
   "outputs": [
    {
     "name": "stdout",
     "output_type": "stream",
     "text": [
      "210.39 KB\n"
     ]
    }
   ],
   "source": [
    "params = 'station_dist'\n",
    "fetch_station_view(all_tables, params = params)"
   ]
  },
  {
   "cell_type": "code",
   "execution_count": 20,
   "id": "0c9a10ef",
   "metadata": {},
   "outputs": [
    {
     "data": {
      "text/html": [
       "<div>\n",
       "<style scoped>\n",
       "    .dataframe tbody tr th:only-of-type {\n",
       "        vertical-align: middle;\n",
       "    }\n",
       "\n",
       "    .dataframe tbody tr th {\n",
       "        vertical-align: top;\n",
       "    }\n",
       "\n",
       "    .dataframe thead th {\n",
       "        text-align: right;\n",
       "    }\n",
       "</style>\n",
       "<table border=\"1\" class=\"dataframe\">\n",
       "  <thead>\n",
       "    <tr style=\"text-align: right;\">\n",
       "      <th></th>\n",
       "      <th>station</th>\n",
       "      <th>dist_mi</th>\n",
       "    </tr>\n",
       "  </thead>\n",
       "  <tbody>\n",
       "    <tr>\n",
       "      <th>2706</th>\n",
       "      <td>West St &amp; Chambers St</td>\n",
       "      <td>4.116524e+06</td>\n",
       "    </tr>\n",
       "    <tr>\n",
       "      <th>58</th>\n",
       "      <td>12 Ave &amp; W 40 St</td>\n",
       "      <td>3.616595e+06</td>\n",
       "    </tr>\n",
       "    <tr>\n",
       "      <th>2527</th>\n",
       "      <td>W 21 St &amp; 6 Ave</td>\n",
       "      <td>2.472178e+06</td>\n",
       "    </tr>\n",
       "    <tr>\n",
       "      <th>525</th>\n",
       "      <td>8 Ave &amp; W 31 St</td>\n",
       "      <td>2.412180e+06</td>\n",
       "    </tr>\n",
       "    <tr>\n",
       "      <th>1195</th>\n",
       "      <td>E 17 St &amp; Broadway</td>\n",
       "      <td>2.249881e+06</td>\n",
       "    </tr>\n",
       "    <tr>\n",
       "      <th>2447</th>\n",
       "      <td>Vesey Pl &amp; River Terrace</td>\n",
       "      <td>2.227507e+06</td>\n",
       "    </tr>\n",
       "    <tr>\n",
       "      <th>13</th>\n",
       "      <td>1 Ave &amp; E 68 St</td>\n",
       "      <td>2.206013e+06</td>\n",
       "    </tr>\n",
       "    <tr>\n",
       "      <th>2094</th>\n",
       "      <td>Pershing Square North</td>\n",
       "      <td>2.156536e+06</td>\n",
       "    </tr>\n",
       "    <tr>\n",
       "      <th>956</th>\n",
       "      <td>Cleveland Pl &amp; Spring St</td>\n",
       "      <td>2.141483e+06</td>\n",
       "    </tr>\n",
       "    <tr>\n",
       "      <th>932</th>\n",
       "      <td>Christopher St &amp; Greenwich St</td>\n",
       "      <td>2.087665e+06</td>\n",
       "    </tr>\n",
       "  </tbody>\n",
       "</table>\n",
       "</div>"
      ],
      "text/plain": [
       "                            station       dist_mi\n",
       "2706          West St & Chambers St  4.116524e+06\n",
       "58                 12 Ave & W 40 St  3.616595e+06\n",
       "2527                W 21 St & 6 Ave  2.472178e+06\n",
       "525                 8 Ave & W 31 St  2.412180e+06\n",
       "1195             E 17 St & Broadway  2.249881e+06\n",
       "2447       Vesey Pl & River Terrace  2.227507e+06\n",
       "13                  1 Ave & E 68 St  2.206013e+06\n",
       "2094          Pershing Square North  2.156536e+06\n",
       "956        Cleveland Pl & Spring St  2.141483e+06\n",
       "932   Christopher St & Greenwich St  2.087665e+06"
      ]
     },
     "execution_count": 20,
     "metadata": {},
     "output_type": "execute_result"
    }
   ],
   "source": [
    "all_tables['station_dist'].sort_values('dist_mi', ascending = False).head(10)"
   ]
  },
  {
   "cell_type": "code",
   "execution_count": 13,
   "id": "da31f6f3",
   "metadata": {},
   "outputs": [],
   "source": [
    "# freqs = {\n",
    "#     'minute': 'min'\n",
    "#     ,'hourly': 'h'\n",
    "#     ,'daily': 'D'\n",
    "#     ,'monthly': 'ME'\n",
    "#     ,'yearly': 'YE'\n",
    "# }\n",
    "# dt_fields = ['start_dt', 'end_dt']\n",
    "\n",
    "# for desc, freq in freqs.items():\n",
    "#     for dt_field in dt_fields:\n",
    "#         params = f'{dt_field}_{desc}'\n",
    "#         fetch_temporal_summaries(all_tables, params, dt_field, freq)"
   ]
  },
  {
   "cell_type": "code",
   "execution_count": null,
   "id": "f9f08970",
   "metadata": {},
   "outputs": [
    {
     "name": "stdout",
     "output_type": "stream",
     "text": [
      "5.54 MB\n",
      "8.31 MB\n"
     ]
    }
   ],
   "source": [
    "dt_fields = ['start_dt', 'end_dt']\n",
    "freq = 'h'\n",
    "for dt_field in dt_fields:\n",
    "    params = f'{dt_field}_hourly'\n",
    "    path = Path(f'{temp_summ_dir}/{params}.csv')\n",
    "\n",
    "    if not path.exists():\n",
    "        summary = concurrent_agg(\n",
    "            table_name = 'view_per_station'\n",
    "            ,save_file = path\n",
    "            # ,max_workers = workers\n",
    "            ,dt_field = dt_field\n",
    "            ,freq = freq\n",
    "        )\n",
    "    else:\n",
    "        summary = pd.read_csv(path)\n",
    "        df_size(summary)"
   ]
  },
  {
   "cell_type": "code",
   "execution_count": null,
   "id": "99861b43",
   "metadata": {},
   "outputs": [],
   "source": []
  },
  {
   "cell_type": "code",
   "execution_count": null,
   "id": "03635ab8",
   "metadata": {},
   "outputs": [],
   "source": []
  }
 ],
 "metadata": {
  "kernelspec": {
   "display_name": "base",
   "language": "python",
   "name": "python3"
  },
  "language_info": {
   "codemirror_mode": {
    "name": "ipython",
    "version": 3
   },
   "file_extension": ".py",
   "mimetype": "text/x-python",
   "name": "python",
   "nbconvert_exporter": "python",
   "pygments_lexer": "ipython3",
   "version": "3.12.2"
  }
 },
 "nbformat": 4,
 "nbformat_minor": 5
}
