{
 "cells": [
  {
   "cell_type": "code",
   "execution_count": 1,
   "id": "8a90e990",
   "metadata": {},
   "outputs": [],
   "source": [
    "import pandas as pd\n",
    "from pathlib import Path"
   ]
  },
  {
   "cell_type": "code",
   "execution_count": 2,
   "id": "c8e3a549",
   "metadata": {},
   "outputs": [],
   "source": [
    "nyc_dir = Path('/Users/neelagarwal/Desktop/CITIBike Data/NYC')"
   ]
  },
  {
   "cell_type": "code",
   "execution_count": 7,
   "id": "f76fcd34",
   "metadata": {},
   "outputs": [],
   "source": [
    "df = pd.DataFrame()\n",
    "i = 0\n",
    "for year_dir in sorted(nyc_dir.iterdir()):\n",
    "    if year_dir.is_dir():\n",
    "        for month_dir in sorted(year_dir.iterdir()):\n",
    "            if month_dir.is_dir():\n",
    "                for file in sorted(month_dir.iterdir()):\n",
    "                    if file.is_file():\n",
    "                        if i == 9:\n",
    "                            break\n",
    "                        else:\n",
    "                            df = pd.concat([df, pd.read_csv(file)])\n",
    "                            i += 1\n",
    "\n",
    "df = df.drop(columns = ['start station id', 'end station id']).dropna(how = 'any')\n",
    "df['starttime'] = pd.to_datetime(df['starttime'])\n",
    "df['stoptime'] = pd.to_datetime(df['stoptime'])"
   ]
  },
  {
   "cell_type": "code",
   "execution_count": 8,
   "id": "dae727c2",
   "metadata": {},
   "outputs": [
    {
     "name": "stdout",
     "output_type": "stream",
     "text": [
      "Rows: 4,920,060\n"
     ]
    }
   ],
   "source": [
    "print(f'Rows: {format(len(df), ',')}')"
   ]
  },
  {
   "cell_type": "code",
   "execution_count": 11,
   "id": "280fc5bd",
   "metadata": {},
   "outputs": [
    {
     "name": "stdout",
     "output_type": "stream",
     "text": [
      "Months: [ 6  7  8  9 10 11]\n",
      "Years [2013]\n"
     ]
    }
   ],
   "source": [
    "print('Months:', df['starttime'].dt.month.unique())\n",
    "print('Years', df['starttime'].dt.year.unique())"
   ]
  },
  {
   "cell_type": "code",
   "execution_count": null,
   "id": "3de691fb",
   "metadata": {},
   "outputs": [],
   "source": [
    "df.to_csv('citibike_data.csv', header = True, index = False)"
   ]
  }
 ],
 "metadata": {
  "kernelspec": {
   "display_name": "base",
   "language": "python",
   "name": "python3"
  },
  "language_info": {
   "codemirror_mode": {
    "name": "ipython",
    "version": 3
   },
   "file_extension": ".py",
   "mimetype": "text/x-python",
   "name": "python",
   "nbconvert_exporter": "python",
   "pygments_lexer": "ipython3",
   "version": "3.12.2"
  }
 },
 "nbformat": 4,
 "nbformat_minor": 5
}
