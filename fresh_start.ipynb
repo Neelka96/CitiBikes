{
 "cells": [
  {
   "cell_type": "code",
   "execution_count": 2,
   "id": "378a0246",
   "metadata": {},
   "outputs": [],
   "source": [
    "from lib.fixer import Fixer\n",
    "from lib import func"
   ]
  },
  {
   "cell_type": "code",
   "execution_count": 3,
   "id": "986c4647",
   "metadata": {},
   "outputs": [],
   "source": [
    "for file in func.iter_subfiles(2025):\n",
    "    fix = Fixer(file, low_memory = False)\n",
    "    break"
   ]
  },
  {
   "cell_type": "code",
   "execution_count": 4,
   "id": "5f93c47e",
   "metadata": {},
   "outputs": [
    {
     "data": {
      "text/plain": [
       "1000000"
      ]
     },
     "execution_count": 4,
     "metadata": {},
     "output_type": "execute_result"
    }
   ],
   "source": [
    "# func.df_size(fix.df)\n",
    "fix.df.shape[0]"
   ]
  },
  {
   "cell_type": "code",
   "execution_count": null,
   "id": "a3a06b4c",
   "metadata": {},
   "outputs": [
    {
     "data": {
      "text/plain": [
       "start_station\n",
       "1 Ave & E 110 St                1140\n",
       "1 Ave & E 16 St                 3298\n",
       "1 Ave & E 18 St                 3973\n",
       "1 Ave & E 30 St                 3085\n",
       "1 Ave & E 39 St                 4438\n",
       "                                ... \n",
       "Wyckoff Ave & Stanhope St       1053\n",
       "Wyckoff St & 3 Ave               616\n",
       "Wythe Ave & Metropolitan Ave    2846\n",
       "Wythe Ave & N 13 St             1040\n",
       "Yankee Ferry Terminal             28\n",
       "Name: lat1, Length: 2128, dtype: int64"
      ]
     },
     "execution_count": 11,
     "metadata": {},
     "output_type": "execute_result"
    }
   ],
   "source": [
    "# fix.df.groupby(['start_station'])['lat1'].count()"
   ]
  },
  {
   "cell_type": "code",
   "execution_count": null,
   "id": "3f80edf1",
   "metadata": {},
   "outputs": [],
   "source": []
  }
 ],
 "metadata": {
  "kernelspec": {
   "display_name": "base",
   "language": "python",
   "name": "python3"
  },
  "language_info": {
   "codemirror_mode": {
    "name": "ipython",
    "version": 3
   },
   "file_extension": ".py",
   "mimetype": "text/x-python",
   "name": "python",
   "nbconvert_exporter": "python",
   "pygments_lexer": "ipython3",
   "version": "3.12.2"
  }
 },
 "nbformat": 4,
 "nbformat_minor": 5
}
