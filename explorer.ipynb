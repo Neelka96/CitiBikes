{
 "cells": [
  {
   "cell_type": "code",
   "execution_count": null,
   "id": "f3301815",
   "metadata": {},
   "outputs": [],
   "source": [
    "from math import ceil\n",
    "from pathlib import Path\n",
    "import pandas as pd\n",
    "from collections.abc import Generator"
   ]
  },
  {
   "cell_type": "code",
   "execution_count": null,
   "id": "e24fe23d",
   "metadata": {},
   "outputs": [],
   "source": [
    "dir_main = Path('/Users/neelagarwal/Desktop/CITIBike Data/')\n",
    "dir_nyc = dir_main / 'NYC'\n",
    "dir_jersey = dir_main / 'Jersey'\n",
    "\n",
    "def extract_files(parent: Path, year: str) -> Generator:\n",
    "    dir_year = parent / year\n",
    "\n",
    "    if parent == 'NYC':\n",
    "        for dir_month in dir_year:\n",
    "            dir_month: Path\n",
    "            if dir_month.is_dir():\n",
    "                for csv in dir_month:\n",
    "                    csv: Path\n",
    "                    if csv.is_file() and csv.suffix == '.csv':\n",
    "                        ...\n",
    "    elif parent == 'Jersey':\n",
    "        for csv_month in dir_year:\n",
    "            csv_month: Path\n",
    "            if csv_month.is_file() and csv_month.suffix == '.csv':\n",
    "                ..."
   ]
  },
  {
   "cell_type": "code",
   "execution_count": null,
   "id": "6ef87ba0",
   "metadata": {},
   "outputs": [],
   "source": [
    "def transform_data():\n",
    "    ..."
   ]
  },
  {
   "cell_type": "code",
   "execution_count": null,
   "id": "71c48a3b",
   "metadata": {},
   "outputs": [
    {
     "name": "stdout",
     "output_type": "stream",
     "text": [
      "/Users/neelagarwal/Desktop/CITIBike Data/2024/07_July\n",
      "/Users/neelagarwal/Desktop/CITIBike Data/2024/08_Aug\n",
      "/Users/neelagarwal/Desktop/CITIBike Data/2024/11_Nov\n",
      "/Users/neelagarwal/Desktop/CITIBike Data/2024/04_Apr\n",
      "/Users/neelagarwal/Desktop/CITIBike Data/2024/12_Dec\n",
      "/Users/neelagarwal/Desktop/CITIBike Data/2024/05_May\n",
      "/Users/neelagarwal/Desktop/CITIBike Data/2024/10_Oct\n",
      "/Users/neelagarwal/Desktop/CITIBike Data/2024/09_Sept\n",
      "/Users/neelagarwal/Desktop/CITIBike Data/2024/06_June\n",
      "/Users/neelagarwal/Desktop/CITIBike Data/2024/03_Mar\n"
     ]
    }
   ],
   "source": [
    "dir_main = Path('/Users/neelagarwal/Desktop/CITIBike Data/')\n",
    "dir_nyc = dir_main / 'NYC'\n",
    "dir_jersey = dir_main / 'Jersey'\n",
    "\n",
    "csv_dir = dir_2024.glob('*')\n",
    "for dir in csv_dir:\n",
    "    if dir.is_dir():\n",
    "        print(dir)\n",
    "df = pd.DataFrame()"
   ]
  },
  {
   "cell_type": "code",
   "execution_count": null,
   "id": "60744f20",
   "metadata": {},
   "outputs": [],
   "source": [
    "chunk_size = int(1e4)\n",
    "size = df.shape[0]\n",
    "num_chunks = ceil(size / chunk_size)"
   ]
  },
  {
   "cell_type": "code",
   "execution_count": null,
   "id": "eaa4e7d2",
   "metadata": {},
   "outputs": [],
   "source": []
  }
 ],
 "metadata": {
  "kernelspec": {
   "display_name": "base",
   "language": "python",
   "name": "python3"
  },
  "language_info": {
   "codemirror_mode": {
    "name": "ipython",
    "version": 3
   },
   "file_extension": ".py",
   "mimetype": "text/x-python",
   "name": "python",
   "nbconvert_exporter": "python",
   "pygments_lexer": "ipython3",
   "version": "3.12.2"
  }
 },
 "nbformat": 4,
 "nbformat_minor": 5
}
